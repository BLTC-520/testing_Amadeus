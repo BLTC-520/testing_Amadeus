{
 "cells": [
  {
   "cell_type": "code",
   "execution_count": 1,
   "id": "f857a4cb-7314-44e9-8431-d9e100a74a54",
   "metadata": {},
   "outputs": [
    {
     "name": "stdout",
     "output_type": "stream",
     "text": [
      "\n",
      "\u001b[1m[\u001b[0m\u001b[34;49mnotice\u001b[0m\u001b[1;39;49m]\u001b[0m\u001b[39;49m A new release of pip is available: \u001b[0m\u001b[31;49m25.0\u001b[0m\u001b[39;49m -> \u001b[0m\u001b[32;49m25.1.1\u001b[0m\n",
      "\u001b[1m[\u001b[0m\u001b[34;49mnotice\u001b[0m\u001b[1;39;49m]\u001b[0m\u001b[39;49m To update, run: \u001b[0m\u001b[32;49m/opt/homebrew/Cellar/jupyterlab/4.4.0_1/libexec/bin/python -m pip install --upgrade pip\u001b[0m\n",
      "Note: you may need to restart the kernel to use updated packages.\n"
     ]
    }
   ],
   "source": [
    "%pip install --upgrade --quiet  amadeus > /dev/null"
   ]
  },
  {
   "cell_type": "code",
   "execution_count": 2,
   "id": "9470bb4d-5eae-4d19-b3bc-688935b6c1cc",
   "metadata": {},
   "outputs": [
    {
     "name": "stdout",
     "output_type": "stream",
     "text": [
      "\n",
      "\u001b[1m[\u001b[0m\u001b[34;49mnotice\u001b[0m\u001b[1;39;49m]\u001b[0m\u001b[39;49m A new release of pip is available: \u001b[0m\u001b[31;49m25.0\u001b[0m\u001b[39;49m -> \u001b[0m\u001b[32;49m25.1.1\u001b[0m\n",
      "\u001b[1m[\u001b[0m\u001b[34;49mnotice\u001b[0m\u001b[1;39;49m]\u001b[0m\u001b[39;49m To update, run: \u001b[0m\u001b[32;49m/opt/homebrew/Cellar/jupyterlab/4.4.0_1/libexec/bin/python -m pip install --upgrade pip\u001b[0m\n",
      "Note: you may need to restart the kernel to use updated packages.\n"
     ]
    }
   ],
   "source": [
    "%pip install -qU langchain-community"
   ]
  },
  {
   "cell_type": "code",
   "execution_count": 15,
   "id": "011026ea-0b38-4a13-94b1-638d8c4ba99b",
   "metadata": {},
   "outputs": [
    {
     "name": "stdout",
     "output_type": "stream",
     "text": [
      "Rebuilding Pydantic models...\n",
      "ClosestAirport Models rebuilt successfully\n",
      "[AmadeusClosestAirport(client=<amadeus.amadeus.Client object at 0x1162b0b50>, llm=ChatOpenAI(client=<openai.resources.chat.completions.completions.Completions object at 0x1160458c0>, async_client=<openai.resources.chat.completions.completions.AsyncCompletions object at 0x116046140>, temperature=0.0, model_kwargs={}, openai_api_key='<YOUR_KEY_HERE>', openai_proxy='')), AmadeusFlightSearch(client=<amadeus.amadeus.Client object at 0x1162b0c50>)]\n"
     ]
    }
   ],
   "source": [
    "import os\n",
    "from langchain_community.agent_toolkits.amadeus.toolkit import AmadeusToolkit\n",
    "from amadeus import Client\n",
    "\n",
    "os.environ[\"AMADEUS_CLIENT_ID\"] = \"<YOUR_CLIENT_ID>\"  # Replace with your Amadeus client ID\n",
    "os.environ[\"AMADEUS_CLIENT_SECRET\"] = \"<YOUR_CLIENT_SECRET>\"  # Replace with your Amadeus client secret\n",
    "os.environ[\"OPENAI_API_KEY\"] = \"<YOUR_KEY_HERE>\"  # Replace with your OpenAI API key\n",
    "os.environ[\"AMADEUS_HOSTNAME\"] = \"test\"\n",
    "\n",
    "print(\"Rebuilding Pydantic models...\")\n",
    "from langchain_community.tools.amadeus.closest_airport import AmadeusClosestAirport\n",
    "\n",
    "# Force rebuild the models with the client available\n",
    "AmadeusClosestAirport.model_rebuild()\n",
    "print(\"ClosestAirport Models rebuilt successfully\")\n",
    "\n",
    "toolkit = AmadeusToolkit()\n",
    "tools = toolkit.get_tools()\n",
    "\n",
    "print(tools)\n"
   ]
  },
  {
   "cell_type": "code",
   "execution_count": 13,
   "id": "ae0e7ec4",
   "metadata": {},
   "outputs": [],
   "source": [
    "from langchain import hub\n",
    "from langchain.agents import AgentExecutor, create_react_agent\n",
    "from langchain.agents.output_parsers import ReActJsonSingleInputOutputParser\n",
    "from langchain.tools.render import render_text_description_and_args\n",
    "from langchain_community.chat_models import ChatOpenAI"
   ]
  },
  {
   "cell_type": "code",
   "execution_count": 14,
   "id": "76413182",
   "metadata": {},
   "outputs": [
    {
     "name": "stderr",
     "output_type": "stream",
     "text": [
      "/opt/homebrew/Cellar/jupyterlab/4.4.0_1/libexec/lib/python3.13/site-packages/langsmith/client.py:272: LangSmithMissingAPIKeyWarning: API key must be provided when using hosted LangSmith API\n",
      "  warnings.warn(\n"
     ]
    }
   ],
   "source": [
    "llm = ChatOpenAI(model=\"gpt-3.5-turbo\",temperature=0)\n",
    "\n",
    "prompt = hub.pull(\"hwchase17/react-json\")\n",
    "agent = create_react_agent(\n",
    "    llm,\n",
    "    tools,\n",
    "    prompt,\n",
    "    tools_renderer=render_text_description_and_args,\n",
    "    output_parser=ReActJsonSingleInputOutputParser(),\n",
    ")\n",
    "\n",
    "agent_executor = AgentExecutor(\n",
    "    agent=agent,\n",
    "    tools=tools,\n",
    "    verbose=True,\n",
    ")"
   ]
  },
  {
   "cell_type": "code",
   "execution_count": 11,
   "id": "5390cead",
   "metadata": {},
   "outputs": [
    {
     "name": "stdout",
     "output_type": "stream",
     "text": [
      "\n",
      "\n",
      "\u001b[1m> Entering new AgentExecutor chain...\u001b[0m\n",
      "\u001b[32;1m\u001b[1;3mQuestion: What is the name of the airport in Cali, Colombia?\n",
      "Thought: We can use the closest_airport tool to find the airport in Cali, Colombia.\n",
      "Action:\n",
      "```\n",
      "{\n",
      "  \"action\": \"closest_airport\",\n",
      "  \"action_input\": {\"location\": \"Cali, Colombia\"}\n",
      "}\n",
      "```\u001b[0m\u001b[36;1m\u001b[1;3mcontent='{\\n  \"iataCode\": \"CLO\"\\n}' additional_kwargs={} response_metadata={'token_usage': {'completion_tokens': 12, 'prompt_tokens': 57, 'total_tokens': 69, 'completion_tokens_details': {'accepted_prediction_tokens': 0, 'audio_tokens': 0, 'reasoning_tokens': 0, 'rejected_prediction_tokens': 0}, 'prompt_tokens_details': {'audio_tokens': 0, 'cached_tokens': 0}}, 'model_name': 'gpt-3.5-turbo', 'system_fingerprint': None, 'finish_reason': 'stop', 'logprobs': None} id='run--5b95c162-be5e-4180-8277-8a502bf72d68-0'\u001b[0m\u001b[32;1m\u001b[1;3mFinal Answer: The airport in Cali, Colombia is named Alfonso Bonilla Aragón International Airport with the IATA code \"CLO\".\u001b[0m\n",
      "\n",
      "\u001b[1m> Finished chain.\u001b[0m\n"
     ]
    },
    {
     "data": {
      "text/plain": [
       "{'input': 'What is the name of the airport in Cali, Colombia?',\n",
       " 'output': 'The airport in Cali, Colombia is named Alfonso Bonilla Aragón International Airport with the IATA code \"CLO\".'}"
      ]
     },
     "execution_count": 11,
     "metadata": {},
     "output_type": "execute_result"
    }
   ],
   "source": [
    "agent_executor.invoke({\"input\": \"What is the name of the airport in Cali, Colombia?\"})"
   ]
  }
 ],
 "metadata": {
  "kernelspec": {
   "display_name": "Python 3 (ipykernel)",
   "language": "python",
   "name": "python3"
  },
  "language_info": {
   "codemirror_mode": {
    "name": "ipython",
    "version": 3
   },
   "file_extension": ".py",
   "mimetype": "text/x-python",
   "name": "python",
   "nbconvert_exporter": "python",
   "pygments_lexer": "ipython3",
   "version": "3.13.3"
  }
 },
 "nbformat": 4,
 "nbformat_minor": 5
}
